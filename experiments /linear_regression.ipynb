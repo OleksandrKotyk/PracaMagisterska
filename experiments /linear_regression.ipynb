{
 "cells": [
  {
   "cell_type": "code",
   "execution_count": 1,
   "metadata": {
    "ExecuteTime": {
     "end_time": "2023-05-16T19:07:21.903151Z",
     "start_time": "2023-05-16T19:07:20.748961Z"
    },
    "collapsed": true
   },
   "outputs": [],
   "source": [
    "from typing import Union, Type\n",
    "\n",
    "import numpy as np\n",
    "import pandas as pd\n",
    "import seaborn as sns\n",
    "from qiskit import QuantumCircuit\n",
    "from qiskit.algorithms.optimizers import ADAM, COBYLA\n",
    "from qiskit.circuit.library import RealAmplitudes, ZFeatureMap\n",
    "from qiskit.primitives import Estimator\n",
    "from qiskit.utils import algorithm_globals\n",
    "from qiskit_machine_learning.neural_networks import EstimatorQNN\n",
    "from sklearn import preprocessing\n",
    "from sklearn.feature_selection import SelectKBest, f_regression\n",
    "from sklearn.preprocessing import StandardScaler\n",
    "\n",
    "sns.set(style='whitegrid')\n",
    "from qiskit.algorithms.optimizers import L_BFGS_B\n",
    "from qiskit_machine_learning.algorithms import VQR, NeuralNetworkRegressor\n",
    "import warnings\n",
    "\n",
    "warnings.filterwarnings('ignore')\n",
    "\n",
    "from sklearn.model_selection import train_test_split\n",
    "from sklearn.linear_model import LinearRegression\n",
    "from sklearn.metrics import r2_score, mean_squared_error\n",
    "\n",
    "n_of_samples = 70\n",
    "\n",
    "random_state = 80"
   ]
  },
  {
   "cell_type": "markdown",
   "metadata": {
    "collapsed": false
   },
   "source": [
    "# Data Preparing"
   ]
  },
  {
   "cell_type": "code",
   "execution_count": 2,
   "metadata": {
    "ExecuteTime": {
     "end_time": "2023-05-16T19:07:21.938578Z",
     "start_time": "2023-05-16T19:07:21.904136Z"
    },
    "collapsed": false
   },
   "outputs": [],
   "source": [
    "diamond_data = pd.read_csv('../datasets/diamonds.csv')"
   ]
  },
  {
   "cell_type": "code",
   "execution_count": 3,
   "metadata": {
    "ExecuteTime": {
     "end_time": "2023-05-16T19:07:21.943457Z",
     "start_time": "2023-05-16T19:07:21.939297Z"
    },
    "collapsed": false
   },
   "outputs": [],
   "source": [
    "diamond_data = diamond_data.sample(n=1000, random_state=random_state)"
   ]
  },
  {
   "cell_type": "code",
   "execution_count": 4,
   "metadata": {
    "ExecuteTime": {
     "end_time": "2023-05-16T19:07:21.947308Z",
     "start_time": "2023-05-16T19:07:21.945791Z"
    },
    "collapsed": false
   },
   "outputs": [],
   "source": [
    "diamond_data = diamond_data.drop([\"Unnamed: 0\"], axis=1)"
   ]
  },
  {
   "cell_type": "code",
   "execution_count": 5,
   "metadata": {
    "ExecuteTime": {
     "end_time": "2023-05-16T19:07:21.956758Z",
     "start_time": "2023-05-16T19:07:21.948694Z"
    },
    "collapsed": false
   },
   "outputs": [
    {
     "data": {
      "text/plain": [
       "carat      0\n",
       "cut        0\n",
       "color      0\n",
       "clarity    0\n",
       "depth      0\n",
       "table      0\n",
       "price      0\n",
       "x          0\n",
       "y          0\n",
       "z          0\n",
       "dtype: int64"
      ]
     },
     "execution_count": 5,
     "metadata": {},
     "output_type": "execute_result"
    }
   ],
   "source": [
    "diamond_data[['x', 'y', 'z']] = diamond_data[['x', 'y', 'z']].replace(0, np.NaN)\n",
    "diamond_data.isnull().sum()"
   ]
  },
  {
   "cell_type": "code",
   "execution_count": 6,
   "metadata": {
    "ExecuteTime": {
     "end_time": "2023-05-16T19:07:21.959685Z",
     "start_time": "2023-05-16T19:07:21.953837Z"
    },
    "collapsed": false
   },
   "outputs": [
    {
     "data": {
      "text/plain": [
       "carat      0\n",
       "cut        0\n",
       "color      0\n",
       "clarity    0\n",
       "depth      0\n",
       "table      0\n",
       "price      0\n",
       "x          0\n",
       "y          0\n",
       "z          0\n",
       "dtype: int64"
      ]
     },
     "execution_count": 6,
     "metadata": {},
     "output_type": "execute_result"
    }
   ],
   "source": [
    "diamond_data.dropna(inplace=True)\n",
    "diamond_data.isnull().sum()"
   ]
  },
  {
   "cell_type": "code",
   "execution_count": 7,
   "metadata": {
    "ExecuteTime": {
     "end_time": "2023-05-16T19:07:21.978858Z",
     "start_time": "2023-05-16T19:07:21.960194Z"
    },
    "collapsed": false
   },
   "outputs": [
    {
     "data": {
      "text/html": [
       "<div>\n",
       "<style scoped>\n",
       "    .dataframe tbody tr th:only-of-type {\n",
       "        vertical-align: middle;\n",
       "    }\n",
       "\n",
       "    .dataframe tbody tr th {\n",
       "        vertical-align: top;\n",
       "    }\n",
       "\n",
       "    .dataframe thead th {\n",
       "        text-align: right;\n",
       "    }\n",
       "</style>\n",
       "<table border=\"1\" class=\"dataframe\">\n",
       "  <thead>\n",
       "    <tr style=\"text-align: right;\">\n",
       "      <th></th>\n",
       "      <th>carat</th>\n",
       "      <th>cut</th>\n",
       "      <th>color</th>\n",
       "      <th>clarity</th>\n",
       "      <th>depth</th>\n",
       "      <th>table</th>\n",
       "      <th>price</th>\n",
       "      <th>volume</th>\n",
       "    </tr>\n",
       "  </thead>\n",
       "  <tbody>\n",
       "    <tr>\n",
       "      <th>21394</th>\n",
       "      <td>1.51</td>\n",
       "      <td>Very Good</td>\n",
       "      <td>I</td>\n",
       "      <td>VS1</td>\n",
       "      <td>63.1</td>\n",
       "      <td>53.0</td>\n",
       "      <td>9513</td>\n",
       "      <td>244.789000</td>\n",
       "    </tr>\n",
       "    <tr>\n",
       "      <th>45561</th>\n",
       "      <td>0.52</td>\n",
       "      <td>Ideal</td>\n",
       "      <td>E</td>\n",
       "      <td>VS2</td>\n",
       "      <td>62.6</td>\n",
       "      <td>57.0</td>\n",
       "      <td>1689</td>\n",
       "      <td>84.472113</td>\n",
       "    </tr>\n",
       "    <tr>\n",
       "      <th>46725</th>\n",
       "      <td>0.47</td>\n",
       "      <td>Very Good</td>\n",
       "      <td>D</td>\n",
       "      <td>VS1</td>\n",
       "      <td>60.0</td>\n",
       "      <td>59.0</td>\n",
       "      <td>1795</td>\n",
       "      <td>78.967278</td>\n",
       "    </tr>\n",
       "    <tr>\n",
       "      <th>33918</th>\n",
       "      <td>0.30</td>\n",
       "      <td>Premium</td>\n",
       "      <td>E</td>\n",
       "      <td>VS2</td>\n",
       "      <td>62.9</td>\n",
       "      <td>58.0</td>\n",
       "      <td>844</td>\n",
       "      <td>48.111798</td>\n",
       "    </tr>\n",
       "    <tr>\n",
       "      <th>40863</th>\n",
       "      <td>0.56</td>\n",
       "      <td>Very Good</td>\n",
       "      <td>I</td>\n",
       "      <td>SI1</td>\n",
       "      <td>61.8</td>\n",
       "      <td>56.0</td>\n",
       "      <td>1175</td>\n",
       "      <td>89.914500</td>\n",
       "    </tr>\n",
       "  </tbody>\n",
       "</table>\n",
       "</div>"
      ],
      "text/plain": [
       "       carat        cut color clarity  depth  table  price      volume\n",
       "21394   1.51  Very Good     I     VS1   63.1   53.0   9513  244.789000\n",
       "45561   0.52      Ideal     E     VS2   62.6   57.0   1689   84.472113\n",
       "46725   0.47  Very Good     D     VS1   60.0   59.0   1795   78.967278\n",
       "33918   0.30    Premium     E     VS2   62.9   58.0    844   48.111798\n",
       "40863   0.56  Very Good     I     SI1   61.8   56.0   1175   89.914500"
      ]
     },
     "execution_count": 7,
     "metadata": {},
     "output_type": "execute_result"
    }
   ],
   "source": [
    "diamond_data['volume'] = diamond_data['x'] * diamond_data['y'] * diamond_data['z']\n",
    "diamond_data.drop(['x', 'y', 'z'], axis=1, inplace=True)\n",
    "diamond_data.head()"
   ]
  },
  {
   "cell_type": "code",
   "execution_count": 8,
   "metadata": {
    "ExecuteTime": {
     "end_time": "2023-05-16T19:07:21.979688Z",
     "start_time": "2023-05-16T19:07:21.969939Z"
    },
    "collapsed": false
   },
   "outputs": [],
   "source": [
    "def outliers(var):\n",
    "    a = []\n",
    "    q1 = diamond_data[var].quantile(.25)\n",
    "    q3 = diamond_data[var].quantile(.75)\n",
    "    iqr = q3 - q1\n",
    "    ulim = float(q3 + (1.5 * iqr))\n",
    "    llim = float(q1 - (1.5 * iqr))\n",
    "\n",
    "    for iterator in diamond_data[var]:\n",
    "        if iterator > ulim:\n",
    "            iterator = np.NaN\n",
    "        elif iterator < llim:\n",
    "            iterator = np.NaN\n",
    "        else:\n",
    "            iterator = iterator\n",
    "        a.append(iterator)\n",
    "    return a\n",
    "\n",
    "\n",
    "for col in diamond_data.select_dtypes(exclude='object').columns:\n",
    "    diamond_data[col] = outliers(col)"
   ]
  },
  {
   "cell_type": "code",
   "execution_count": 9,
   "metadata": {
    "ExecuteTime": {
     "end_time": "2023-05-16T19:07:21.987346Z",
     "start_time": "2023-05-16T19:07:21.979418Z"
    },
    "collapsed": false
   },
   "outputs": [],
   "source": [
    "for i in diamond_data.select_dtypes(exclude='object').columns:\n",
    "    diamond_data[i] = diamond_data[i].fillna(diamond_data[i].mean())"
   ]
  },
  {
   "cell_type": "code",
   "execution_count": 10,
   "metadata": {
    "ExecuteTime": {
     "end_time": "2023-05-16T19:07:21.987587Z",
     "start_time": "2023-05-16T19:07:21.983283Z"
    },
    "collapsed": false
   },
   "outputs": [],
   "source": [
    "numerical_cols = diamond_data.select_dtypes(include=np.number).columns.to_list()\n",
    "categorical_cols = diamond_data.select_dtypes(exclude=np.number).columns.to_list()"
   ]
  },
  {
   "cell_type": "code",
   "execution_count": 11,
   "metadata": {
    "ExecuteTime": {
     "end_time": "2023-05-16T19:07:21.993811Z",
     "start_time": "2023-05-16T19:07:21.991173Z"
    },
    "collapsed": false
   },
   "outputs": [
    {
     "data": {
      "text/html": [
       "<div>\n",
       "<style scoped>\n",
       "    .dataframe tbody tr th:only-of-type {\n",
       "        vertical-align: middle;\n",
       "    }\n",
       "\n",
       "    .dataframe tbody tr th {\n",
       "        vertical-align: top;\n",
       "    }\n",
       "\n",
       "    .dataframe thead th {\n",
       "        text-align: right;\n",
       "    }\n",
       "</style>\n",
       "<table border=\"1\" class=\"dataframe\">\n",
       "  <thead>\n",
       "    <tr style=\"text-align: right;\">\n",
       "      <th></th>\n",
       "      <th>carat</th>\n",
       "      <th>cut</th>\n",
       "      <th>color</th>\n",
       "      <th>clarity</th>\n",
       "      <th>depth</th>\n",
       "      <th>table</th>\n",
       "      <th>price</th>\n",
       "      <th>volume</th>\n",
       "    </tr>\n",
       "  </thead>\n",
       "  <tbody>\n",
       "    <tr>\n",
       "      <th>21394</th>\n",
       "      <td>1.51</td>\n",
       "      <td>4</td>\n",
       "      <td>5</td>\n",
       "      <td>4</td>\n",
       "      <td>63.1</td>\n",
       "      <td>53.0</td>\n",
       "      <td>9513.0</td>\n",
       "      <td>244.789000</td>\n",
       "    </tr>\n",
       "    <tr>\n",
       "      <th>45561</th>\n",
       "      <td>0.52</td>\n",
       "      <td>2</td>\n",
       "      <td>1</td>\n",
       "      <td>5</td>\n",
       "      <td>62.6</td>\n",
       "      <td>57.0</td>\n",
       "      <td>1689.0</td>\n",
       "      <td>84.472113</td>\n",
       "    </tr>\n",
       "    <tr>\n",
       "      <th>46725</th>\n",
       "      <td>0.47</td>\n",
       "      <td>4</td>\n",
       "      <td>0</td>\n",
       "      <td>4</td>\n",
       "      <td>60.0</td>\n",
       "      <td>59.0</td>\n",
       "      <td>1795.0</td>\n",
       "      <td>78.967278</td>\n",
       "    </tr>\n",
       "    <tr>\n",
       "      <th>33918</th>\n",
       "      <td>0.30</td>\n",
       "      <td>3</td>\n",
       "      <td>1</td>\n",
       "      <td>5</td>\n",
       "      <td>62.9</td>\n",
       "      <td>58.0</td>\n",
       "      <td>844.0</td>\n",
       "      <td>48.111798</td>\n",
       "    </tr>\n",
       "    <tr>\n",
       "      <th>40863</th>\n",
       "      <td>0.56</td>\n",
       "      <td>4</td>\n",
       "      <td>5</td>\n",
       "      <td>2</td>\n",
       "      <td>61.8</td>\n",
       "      <td>56.0</td>\n",
       "      <td>1175.0</td>\n",
       "      <td>89.914500</td>\n",
       "    </tr>\n",
       "  </tbody>\n",
       "</table>\n",
       "</div>"
      ],
      "text/plain": [
       "       carat  cut  color  clarity  depth  table   price      volume\n",
       "21394   1.51    4      5        4   63.1   53.0  9513.0  244.789000\n",
       "45561   0.52    2      1        5   62.6   57.0  1689.0   84.472113\n",
       "46725   0.47    4      0        4   60.0   59.0  1795.0   78.967278\n",
       "33918   0.30    3      1        5   62.9   58.0   844.0   48.111798\n",
       "40863   0.56    4      5        2   61.8   56.0  1175.0   89.914500"
      ]
     },
     "execution_count": 11,
     "metadata": {},
     "output_type": "execute_result"
    }
   ],
   "source": [
    "label_encoder = preprocessing.LabelEncoder()\n",
    "\n",
    "diamond_data['cut'] = label_encoder.fit_transform(diamond_data['cut'])\n",
    "diamond_data['color'] = label_encoder.fit_transform(diamond_data['color'])\n",
    "diamond_data['clarity'] = label_encoder.fit_transform(diamond_data['clarity'])\n",
    "diamond_data.head()"
   ]
  },
  {
   "cell_type": "markdown",
   "metadata": {
    "collapsed": false
   },
   "source": [
    "# Scaling"
   ]
  },
  {
   "cell_type": "code",
   "execution_count": 12,
   "metadata": {
    "ExecuteTime": {
     "end_time": "2023-05-16T19:07:21.999756Z",
     "start_time": "2023-05-16T19:07:21.997021Z"
    },
    "collapsed": false
   },
   "outputs": [],
   "source": [
    "X = diamond_data.drop(columns=['price'])\n",
    "y = diamond_data['price']\n",
    "\n",
    "y = StandardScaler().fit_transform(y.to_numpy().reshape(-1, 1))\n",
    "\n",
    "X_train, X_test, y_train, y_test = train_test_split(X, y, test_size=0.3, random_state=345356)"
   ]
  },
  {
   "cell_type": "markdown",
   "metadata": {
    "collapsed": false
   },
   "source": [
    "# Classical approach"
   ]
  },
  {
   "cell_type": "code",
   "execution_count": 13,
   "metadata": {
    "ExecuteTime": {
     "end_time": "2023-05-16T19:07:22.072127Z",
     "start_time": "2023-05-16T19:07:22.001983Z"
    },
    "collapsed": false
   },
   "outputs": [
    {
     "name": "stdout",
     "output_type": "stream",
     "text": [
      "RMSE: 0.5656605913278987\n",
      "R2  : 0.8365463296188355\n"
     ]
    }
   ],
   "source": [
    "regr = LinearRegression()\n",
    "model = regr.fit(X_train, y_train)\n",
    "y_pred = model.predict(X_test)\n",
    "\n",
    "print(\"RMSE: {}\".format(np.sqrt(mean_squared_error(y_test, y_pred))))\n",
    "print(\"R2  : {}\".format(np.sqrt(r2_score(y_test, y_pred))))"
   ]
  },
  {
   "cell_type": "markdown",
   "metadata": {
    "collapsed": false
   },
   "source": [
    "# Reduction number of features"
   ]
  },
  {
   "cell_type": "code",
   "execution_count": 14,
   "metadata": {
    "ExecuteTime": {
     "end_time": "2023-05-16T19:07:22.079400Z",
     "start_time": "2023-05-16T19:07:22.017066Z"
    },
    "collapsed": false
   },
   "outputs": [],
   "source": [
    "fs = SelectKBest(score_func=f_regression, k='all')\n",
    "\n",
    "fs.fit(X_train, y_train)\n",
    "\n",
    "best_features = pd.DataFrame([fs.scores_, X_train.columns]).T.sort_values(0, ascending=False)"
   ]
  },
  {
   "cell_type": "markdown",
   "metadata": {
    "collapsed": false
   },
   "source": [
    "### We take two first best features to not kill our quantum algorithm simulator"
   ]
  },
  {
   "cell_type": "code",
   "execution_count": 15,
   "metadata": {
    "ExecuteTime": {
     "end_time": "2023-05-16T19:07:22.087874Z",
     "start_time": "2023-05-16T19:07:22.022472Z"
    },
    "collapsed": false
   },
   "outputs": [],
   "source": [
    "n_of_best_features = 2\n",
    "X_train_features_reduced, X_test_features_reduced = \\\n",
    "    X_train.loc[:, best_features.iloc[:n_of_best_features].loc[:, 1].values], \\\n",
    "        X_test.loc[:, best_features.iloc[:n_of_best_features].loc[:, 1].values]"
   ]
  },
  {
   "cell_type": "markdown",
   "metadata": {
    "collapsed": false
   },
   "source": [
    "# Score is not so much smaller than the one with all features ^^^^"
   ]
  },
  {
   "cell_type": "code",
   "execution_count": 16,
   "metadata": {
    "ExecuteTime": {
     "end_time": "2023-05-16T19:07:22.088595Z",
     "start_time": "2023-05-16T19:07:22.027984Z"
    },
    "collapsed": false
   },
   "outputs": [
    {
     "name": "stdout",
     "output_type": "stream",
     "text": [
      "RMSE: 0.5790897222639099\n",
      "R2  : 0.827881130908127\n"
     ]
    }
   ],
   "source": [
    "regr = LinearRegression()\n",
    "model = regr.fit(X_train_features_reduced, y_train)\n",
    "y_pred = model.predict(X_test_features_reduced)\n",
    "\n",
    "print(\"RMSE: {}\".format(np.sqrt(mean_squared_error(y_test, y_pred))))\n",
    "print(\"R2  : {}\".format(np.sqrt(r2_score(y_test, y_pred))))"
   ]
  },
  {
   "cell_type": "markdown",
   "metadata": {
    "collapsed": false
   },
   "source": [
    "# Quantum approach"
   ]
  },
  {
   "cell_type": "code",
   "execution_count": 17,
   "metadata": {
    "ExecuteTime": {
     "end_time": "2023-05-16T19:07:22.693563Z",
     "start_time": "2023-05-16T19:07:22.036151Z"
    },
    "collapsed": false
   },
   "outputs": [
    {
     "data": {
      "image/png": "[encoded data removed]",
      "text/plain": [
       "<Figure size 1374.24x200.667 with 1 Axes>"
      ]
     },
     "execution_count": 17,
     "metadata": {},
     "output_type": "execute_result"
    }
   ],
   "source": [
    "n_features = X_train_features_reduced.shape[1]\n",
    "\n",
    "feature_map = ZFeatureMap(n_features)\n",
    "ansatz = RealAmplitudes(n_features, reps=5)\n",
    "\n",
    "initial_point = algorithm_globals.random.random(ansatz.num_parameters)\n",
    "\n",
    "circuit = QuantumCircuit(n_features)\n",
    "circuit.compose(feature_map, inplace=True)\n",
    "circuit.compose(ansatz, inplace=True)\n",
    "\n",
    "estimator_qnn = EstimatorQNN(\n",
    "    circuit=circuit,\n",
    "    input_params=feature_map.parameters,\n",
    "    weight_params=ansatz.parameters,\n",
    "    estimator=Estimator()\n",
    ")\n",
    "circuit.decompose().draw(output=\"mpl\")"
   ]
  },
  {
   "cell_type": "markdown",
   "metadata": {
    "collapsed": false
   },
   "source": [
    "# NeuralNetworkRegressor"
   ]
  },
  {
   "cell_type": "code",
   "execution_count": 18,
   "metadata": {
    "ExecuteTime": {
     "end_time": "2023-05-16T19:07:22.693971Z",
     "start_time": "2023-05-16T19:07:22.680136Z"
    },
    "collapsed": false
   },
   "outputs": [],
   "source": [
    "def get_neural_network_regressor(optimizer: Union[Type[ADAM], Type[L_BFGS_B], Type[COBYLA]]):\n",
    "    in_regressor = NeuralNetworkRegressor(\n",
    "        neural_network=estimator_qnn,\n",
    "        optimizer=optimizer(maxiter=1000),\n",
    "        initial_point=initial_point,\n",
    "    )\n",
    "    # L_BFGS_B NeuralNetworkRegressor\n",
    "\n",
    "    return in_regressor\n"
   ]
  },
  {
   "cell_type": "code",
   "execution_count": 19,
   "metadata": {
    "collapsed": false,
    "pycharm": {
     "is_executing": true
    }
   },
   "outputs": [
    {
     "name": "stdout",
     "output_type": "stream",
     "text": [
      "RMSE: 0.6150024245446807\n",
      "R2  : 0.8032155733811304\n"
     ]
    }
   ],
   "source": [
    "regressor = get_neural_network_regressor(ADAM)\n",
    "regressor.fit(X_train_features_reduced.to_numpy(), y_train)\n",
    "\n",
    "y_pred = regressor.predict(X_test_features_reduced)\n",
    "\n",
    "print(\"RMSE: {}\".format(np.sqrt(mean_squared_error(y_test, y_pred))))\n",
    "print(\"R2  : {}\".format(np.sqrt(r2_score(y_test, y_pred))))"
   ]
  },
  {
   "cell_type": "code",
   "execution_count": 20,
   "metadata": {
    "collapsed": false,
    "pycharm": {
     "is_executing": true
    }
   },
   "outputs": [
    {
     "name": "stdout",
     "output_type": "stream",
     "text": [
      "RMSE: 0.6071645006567055\n",
      "R2  : 0.8087906337944423\n"
     ]
    }
   ],
   "source": [
    "regressor = get_neural_network_regressor(L_BFGS_B)\n",
    "regressor.fit(X_train_features_reduced.to_numpy(), y_train)\n",
    "\n",
    "y_pred = regressor.predict(X_test_features_reduced)\n",
    "\n",
    "print(\"RMSE: {}\".format(np.sqrt(mean_squared_error(y_test, y_pred))))\n",
    "print(\"R2  : {}\".format(np.sqrt(r2_score(y_test, y_pred))))"
   ]
  },
  {
   "cell_type": "code",
   "execution_count": 21,
   "metadata": {
    "collapsed": false,
    "pycharm": {
     "is_executing": true
    }
   },
   "outputs": [
    {
     "name": "stdout",
     "output_type": "stream",
     "text": [
      "RMSE: 0.6071640788784658\n",
      "R2  : 0.8087909308508446\n"
     ]
    }
   ],
   "source": [
    "regressor = get_neural_network_regressor(COBYLA)\n",
    "regressor.fit(X_train_features_reduced.to_numpy(), y_train)\n",
    "\n",
    "y_pred = regressor.predict(X_test_features_reduced)\n",
    "\n",
    "print(\"RMSE: {}\".format(np.sqrt(mean_squared_error(y_test, y_pred))))\n",
    "print(\"R2  : {}\".format(np.sqrt(r2_score(y_test, y_pred))))"
   ]
  },
  {
   "cell_type": "markdown",
   "metadata": {
    "collapsed": false
   },
   "source": [
    "# VQR with L_BFGS_B"
   ]
  },
  {
   "cell_type": "code",
   "execution_count": 22,
   "metadata": {
    "ExecuteTime": {
     "end_time": "2023-05-14T23:43:44.750661Z",
     "start_time": "2023-05-14T23:32:26.512737Z"
    },
    "collapsed": false,
    "pycharm": {
     "is_executing": true
    }
   },
   "outputs": [],
   "source": [
    "def get_vqr(optimizer: Union[Type[ADAM], Type[L_BFGS_B], Type[COBYLA]]):\n",
    "    int_regressor = VQR(\n",
    "        feature_map=feature_map,\n",
    "        ansatz=ansatz,\n",
    "        optimizer=optimizer(maxiter=1000),\n",
    "        initial_point=initial_point\n",
    "    )\n",
    "    return int_regressor"
   ]
  },
  {
   "cell_type": "code",
   "execution_count": 23,
   "metadata": {
    "ExecuteTime": {
     "end_time": "2023-05-14T23:43:45.790251Z",
     "start_time": "2023-05-14T23:43:44.761378Z"
    },
    "collapsed": false,
    "pycharm": {
     "is_executing": true
    }
   },
   "outputs": [
    {
     "name": "stdout",
     "output_type": "stream",
     "text": [
      "RMSE: 0.6150024245446807\n",
      "R2  : 0.8032155733811304\n"
     ]
    }
   ],
   "source": [
    "regressor = get_vqr(ADAM)\n",
    "\n",
    "regressor.fit(X_train_features_reduced.to_numpy(), y_train)\n",
    "\n",
    "y_pred = regressor.predict(X_test_features_reduced)\n",
    "\n",
    "print(\"RMSE: {}\".format(np.sqrt(mean_squared_error(y_test, y_pred))))\n",
    "print(\"R2  : {}\".format(np.sqrt(r2_score(y_test, y_pred))))"
   ]
  },
  {
   "cell_type": "code",
   "execution_count": 24,
   "metadata": {
    "collapsed": false,
    "pycharm": {
     "is_executing": true
    }
   },
   "outputs": [
    {
     "name": "stdout",
     "output_type": "stream",
     "text": [
      "RMSE: 0.6071645006567055\n",
      "R2  : 0.8087906337944423\n"
     ]
    }
   ],
   "source": [
    "regressor = get_vqr(L_BFGS_B)\n",
    "\n",
    "regressor.fit(X_train_features_reduced.to_numpy(), y_train)\n",
    "\n",
    "y_pred = regressor.predict(X_test_features_reduced)\n",
    "\n",
    "print(\"RMSE: {}\".format(np.sqrt(mean_squared_error(y_test, y_pred))))\n",
    "print(\"R2  : {}\".format(np.sqrt(r2_score(y_test, y_pred))))"
   ]
  },
  {
   "cell_type": "code",
   "execution_count": 25,
   "metadata": {
    "collapsed": false,
    "pycharm": {
     "is_executing": true
    }
   },
   "outputs": [
    {
     "name": "stdout",
     "output_type": "stream",
     "text": [
      "RMSE: 0.6071640788784658\n",
      "R2  : 0.8087909308508446\n"
     ]
    }
   ],
   "source": [
    "regressor = get_vqr(COBYLA)\n",
    "\n",
    "regressor.fit(X_train_features_reduced.to_numpy(), y_train)\n",
    "\n",
    "y_pred = regressor.predict(X_test_features_reduced)\n",
    "\n",
    "print(\"RMSE: {}\".format(np.sqrt(mean_squared_error(y_test, y_pred))))\n",
    "print(\"R2  : {}\".format(np.sqrt(r2_score(y_test, y_pred))))"
   ]
  },
  {
   "cell_type": "markdown",
   "metadata": {
    "collapsed": false
   },
   "source": [
    "## Scores are comparable"
   ]
  },
  {
   "cell_type": "code",
   "execution_count": null,
   "metadata": {
    "collapsed": false,
    "pycharm": {
     "is_executing": true
    }
   },
   "outputs": [],
   "source": []
  }
 ],
 "metadata": {
  "kernelspec": {
   "display_name": "Python 3",
   "language": "python",
   "name": "python3"
  },
  "language_info": {
   "codemirror_mode": {
    "name": "ipython",
    "version": 3
   },
   "file_extension": ".py",
   "mimetype": "text/x-python",
   "name": "python",
   "nbconvert_exporter": "python",
   "pygments_lexer": "ipython3",
   "version": "3.9.16"
  }
 },
 "nbformat": 4,
 "nbformat_minor": 0
}
