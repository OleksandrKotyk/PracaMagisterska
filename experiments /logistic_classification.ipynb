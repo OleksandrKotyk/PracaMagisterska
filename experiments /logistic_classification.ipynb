{
 "cells": [
  {
   "cell_type": "code",
   "execution_count": 1,
   "metadata": {
    "ExecuteTime": {
     "end_time": "2023-05-16T16:31:06.465652Z",
     "start_time": "2023-05-16T16:31:06.029027Z"
    },
    "collapsed": false
   },
   "outputs": [],
   "source": [
    "from copy import deepcopy\n",
    "from typing import Type, Union\n",
    "\n",
    "import pandas as pd\n",
    "from qiskit import QuantumCircuit\n",
    "from qiskit.algorithms.optimizers import ADAM, COBYLA\n",
    "from qiskit.circuit.library import ZZFeatureMap, EfficientSU2\n",
    "from qiskit_machine_learning.algorithms import NeuralNetworkClassifier\n",
    "from qiskit_machine_learning.neural_networks import EstimatorQNN\n",
    "from sklearn import datasets\n",
    "from sklearn.model_selection import train_test_split\n",
    "from sklearn.preprocessing import StandardScaler\n",
    "from qiskit.algorithms.optimizers import L_BFGS_B\n",
    "from qiskit_machine_learning.algorithms import VQC\n",
    "from qiskit.circuit.library import ZFeatureMap, TwoLocal\n",
    "from sklearn.linear_model import LogisticRegression\n"
   ]
  },
  {
   "cell_type": "code",
   "execution_count": 2,
   "metadata": {
    "ExecuteTime": {
     "end_time": "2023-05-16T16:31:06.470239Z",
     "start_time": "2023-05-16T16:31:06.466547Z"
    },
    "collapsed": false
   },
   "outputs": [],
   "source": [
    "iris = datasets.load_iris()\n",
    "\n",
    "\n",
    "def get_dataset(start, stop, columns):\n",
    "    x_to_return = pd.DataFrame(iris.data[start:stop])\n",
    "    y_to_return = pd.Series(iris.target[start:stop])\n",
    "\n",
    "    x_to_return.columns = ['sepal_length', 'sepal_width', 'petal_length', 'petal_width']\n",
    "\n",
    "    x_to_return = x_to_return.loc[:, columns]\n",
    "\n",
    "    x_to_return = StandardScaler().fit_transform(x_to_return)\n",
    "\n",
    "    return *train_test_split(\n",
    "        x_to_return, y_to_return, test_size=0.3, random_state=1, stratify=y_to_return), x_to_return, y_to_return"
   ]
  },
  {
   "cell_type": "markdown",
   "metadata": {
    "collapsed": false
   },
   "source": [
    "# Easy separable data"
   ]
  },
  {
   "cell_type": "markdown",
   "metadata": {
    "collapsed": false
   },
   "source": [
    "## Classical approach on easy separable data"
   ]
  },
  {
   "cell_type": "code",
   "execution_count": 3,
   "metadata": {
    "ExecuteTime": {
     "end_time": "2023-05-16T16:31:06.475980Z",
     "start_time": "2023-05-16T16:31:06.473989Z"
    },
    "collapsed": false
   },
   "outputs": [],
   "source": [
    "experiment_columns = ['petal_length', 'petal_width']\n",
    "X_train, X_test, y_train, y_test, _, _ = get_dataset(0, 100, experiment_columns)"
   ]
  },
  {
   "cell_type": "code",
   "execution_count": 4,
   "metadata": {
    "ExecuteTime": {
     "end_time": "2023-05-16T16:31:06.482346Z",
     "start_time": "2023-05-16T16:31:06.476728Z"
    },
    "collapsed": false
   },
   "outputs": [
    {
     "data": {
      "text/plain": [
       "1.0"
      ]
     },
     "execution_count": 4,
     "metadata": {},
     "output_type": "execute_result"
    }
   ],
   "source": [
    "regressor = LogisticRegression()\n",
    "regressor.fit(X_train, y_train)\n",
    "\n",
    "regressor.score(X_test, y_test)"
   ]
  },
  {
   "cell_type": "markdown",
   "metadata": {},
   "source": [
    "## Quantum approach VQC"
   ]
  },
  {
   "cell_type": "code",
   "execution_count": 5,
   "metadata": {
    "ExecuteTime": {
     "end_time": "2023-05-16T16:31:06.485333Z",
     "start_time": "2023-05-16T16:31:06.483957Z"
    },
    "collapsed": false
   },
   "outputs": [],
   "source": [
    "# construct feature map, ansatz, and optimizer\n",
    "\n",
    "n_of_features = X_train.shape[1]\n",
    "\n",
    "\n",
    "def get_vqc_qnn(optimizer: Union[Type[ADAM], Type[L_BFGS_B], Type[COBYLA]],\n",
    "                loss=\"cross_entropy\"):\n",
    "    in_feature_map = ZFeatureMap(n_of_features)\n",
    "\n",
    "    in_ansatz = TwoLocal(2, ['ry', 'rz'], 'cz', 'full', reps=4, insert_barriers=True)\n",
    "\n",
    "    # construct variational quantum classifier\n",
    "    in_vqc = VQC(\n",
    "        feature_map=in_feature_map,\n",
    "        ansatz=in_ansatz,\n",
    "        loss=loss,\n",
    "        optimizer=optimizer(maxiter=1000)\n",
    "    )\n",
    "\n",
    "    return in_vqc"
   ]
  },
  {
   "cell_type": "code",
   "execution_count": 6,
   "metadata": {
    "ExecuteTime": {
     "end_time": "2023-05-16T16:33:19.474276Z",
     "start_time": "2023-05-16T16:31:06.486341Z"
    },
    "collapsed": false
   },
   "outputs": [
    {
     "data": {
      "text/plain": [
       "0.8333333333333334"
      ]
     },
     "execution_count": 6,
     "metadata": {},
     "output_type": "execute_result"
    }
   ],
   "source": [
    "vqc = get_vqc_qnn(COBYLA)\n",
    "vqc.fit(X_train, pd.get_dummies(y_train).to_numpy().astype(int))\n",
    "vqc.score(X_test, pd.get_dummies(y_test).to_numpy().astype(int))"
   ]
  },
  {
   "cell_type": "code",
   "execution_count": 7,
   "metadata": {
    "ExecuteTime": {
     "end_time": "2023-05-16T17:26:14.758456Z",
     "start_time": "2023-05-16T16:33:19.501186Z"
    },
    "collapsed": false
   },
   "outputs": [
    {
     "data": {
      "text/plain": [
       "0.9"
      ]
     },
     "execution_count": 7,
     "metadata": {},
     "output_type": "execute_result"
    }
   ],
   "source": [
    "vqc = get_vqc_qnn(ADAM)\n",
    "vqc.fit(X_train, pd.get_dummies(y_train).to_numpy().astype(int))\n",
    "vqc.score(X_test, pd.get_dummies(y_test).to_numpy().astype(int))"
   ]
  },
  {
   "cell_type": "code",
   "execution_count": 8,
   "metadata": {
    "ExecuteTime": {
     "end_time": "2023-05-16T17:27:31.309107Z",
     "start_time": "2023-05-16T17:26:14.776118Z"
    },
    "collapsed": false
   },
   "outputs": [
    {
     "data": {
      "text/plain": [
       "0.9333333333333333"
      ]
     },
     "execution_count": 8,
     "metadata": {},
     "output_type": "execute_result"
    }
   ],
   "source": [
    "vqc = get_vqc_qnn(L_BFGS_B)\n",
    "vqc.fit(X_train, pd.get_dummies(y_train).to_numpy().astype(int))\n",
    "vqc.score(X_test, pd.get_dummies(y_test).to_numpy().astype(int))"
   ]
  },
  {
   "cell_type": "code",
   "execution_count": null,
   "metadata": {},
   "outputs": [],
   "source": []
  },
  {
   "cell_type": "markdown",
   "metadata": {
    "collapsed": false
   },
   "source": [
    "# Not Easy separable data"
   ]
  },
  {
   "cell_type": "code",
   "execution_count": 27,
   "metadata": {
    "ExecuteTime": {
     "end_time": "2023-05-16T12:43:20.254357Z",
     "start_time": "2023-05-16T12:43:20.234563Z"
    },
    "collapsed": false,
    "pycharm": {
     "is_executing": true
    }
   },
   "outputs": [],
   "source": [
    "experiment_columns = ['petal_length', 'petal_width']\n",
    "X_train_not_easy_separable, X_test_not_easy_separable, y_train_not_easy_separable, y_test_not_easy_separable, _, _ = get_dataset(\n",
    "    50, 150, experiment_columns)\n",
    "\n",
    "y_train_not_easy_separable[y_train_not_easy_separable == 2] = 0\n",
    "y_test_not_easy_separable[y_test_not_easy_separable == 2] = 0"
   ]
  },
  {
   "cell_type": "markdown",
   "metadata": {
    "collapsed": false
   },
   "source": [
    "### Classical approach on not easy separable data"
   ]
  },
  {
   "cell_type": "code",
   "execution_count": 28,
   "metadata": {
    "ExecuteTime": {
     "end_time": "2023-05-16T12:43:22.517627Z",
     "start_time": "2023-05-16T12:43:22.498316Z"
    },
    "collapsed": false,
    "pycharm": {
     "is_executing": true
    }
   },
   "outputs": [
    {
     "data": {
      "text/plain": [
       "0.9666666666666667"
      ]
     },
     "execution_count": 28,
     "metadata": {},
     "output_type": "execute_result"
    }
   ],
   "source": [
    "regressor = LogisticRegression()\n",
    "regressor.fit(X_train_not_easy_separable, y_train_not_easy_separable)\n",
    "\n",
    "regressor.score(X_test_not_easy_separable, y_test_not_easy_separable)"
   ]
  },
  {
   "cell_type": "markdown",
   "metadata": {
    "collapsed": false
   },
   "source": [
    "### Quantum approach VQC"
   ]
  },
  {
   "cell_type": "code",
   "execution_count": 29,
   "metadata": {
    "collapsed": false,
    "pycharm": {
     "is_executing": true
    }
   },
   "outputs": [],
   "source": [
    "# construct feature map, ansatz, and optimizer\n",
    "\n",
    "def create_vqc(in_feature_map, in_ansatz, optimizer: Union[Type[ADAM], Type[L_BFGS_B], Type[COBYLA]]):\n",
    "    inner_vqc = VQC(\n",
    "        feature_map=in_feature_map,\n",
    "        ansatz=in_ansatz,\n",
    "        loss=\"cross_entropy\",\n",
    "        optimizer=optimizer(maxiter=1000)\n",
    "    )\n",
    "\n",
    "    return inner_vqc"
   ]
  },
  {
   "cell_type": "code",
   "execution_count": 30,
   "metadata": {
    "collapsed": false,
    "pycharm": {
     "is_executing": true
    }
   },
   "outputs": [
    {
     "data": {
      "text/plain": [
       "0.6666666666666666"
      ]
     },
     "execution_count": 30,
     "metadata": {},
     "output_type": "execute_result"
    }
   ],
   "source": [
    "# ADAM\n",
    "\n",
    "vqc = create_vqc(\n",
    "    ZZFeatureMap(n_of_features),\n",
    "    EfficientSU2(num_qubits=n_of_features, reps=2),\n",
    "    optimizer=ADAM\n",
    ")\n",
    "\n",
    "vqc.fit(X_train_not_easy_separable, pd.get_dummies(y_train_not_easy_separable).to_numpy().astype(int))\n",
    "vqc.score(X_test_not_easy_separable, pd.get_dummies(y_test_not_easy_separable).to_numpy().astype(int))"
   ]
  },
  {
   "cell_type": "code",
   "execution_count": 31,
   "metadata": {
    "collapsed": false,
    "pycharm": {
     "is_executing": true
    }
   },
   "outputs": [
    {
     "data": {
      "text/plain": [
       "0.8"
      ]
     },
     "execution_count": 31,
     "metadata": {},
     "output_type": "execute_result"
    }
   ],
   "source": [
    "# L_BFGS_B\n",
    "\n",
    "vqc = create_vqc(\n",
    "    ZZFeatureMap(n_of_features),\n",
    "    EfficientSU2(num_qubits=n_of_features, reps=2),\n",
    "    optimizer=L_BFGS_B\n",
    ")\n",
    "\n",
    "vqc.fit(X_train_not_easy_separable, pd.get_dummies(y_train_not_easy_separable).to_numpy().astype(int))\n",
    "vqc.score(X_test_not_easy_separable, pd.get_dummies(y_test_not_easy_separable).to_numpy().astype(int))"
   ]
  },
  {
   "cell_type": "code",
   "execution_count": 32,
   "metadata": {
    "collapsed": false,
    "pycharm": {
     "is_executing": true
    }
   },
   "outputs": [
    {
     "data": {
      "text/plain": [
       "0.6666666666666666"
      ]
     },
     "execution_count": 32,
     "metadata": {},
     "output_type": "execute_result"
    }
   ],
   "source": [
    "# COBYLA\n",
    "\n",
    "vqc = create_vqc(\n",
    "    ZZFeatureMap(n_of_features),\n",
    "    EfficientSU2(num_qubits=n_of_features, reps=2),\n",
    "    optimizer=COBYLA\n",
    ")\n",
    "\n",
    "vqc.fit(X_train_not_easy_separable, pd.get_dummies(y_train_not_easy_separable).to_numpy().astype(int))\n",
    "vqc.score(X_test_not_easy_separable, pd.get_dummies(y_test_not_easy_separable).to_numpy().astype(int))"
   ]
  }
 ],
 "metadata": {
  "kernelspec": {
   "display_name": "Python 3",
   "language": "python",
   "name": "python3"
  },
  "language_info": {
   "codemirror_mode": {
    "name": "ipython",
    "version": 3
   },
   "file_extension": ".py",
   "mimetype": "text/x-python",
   "name": "python",
   "nbconvert_exporter": "python",
   "pygments_lexer": "ipython3",
   "version": "3.9.16"
  }
 },
 "nbformat": 4,
 "nbformat_minor": 4
}
