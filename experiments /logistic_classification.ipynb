{
 "metadata": {
  "kernelspec": {
   "display_name": "Python 3",
   "language": "python",
   "name": "python3"
  },
  "language_info": {
   "name": "python",
   "version": "3.6.6",
   "mimetype": "text/x-python",
   "codemirror_mode": {
    "name": "ipython",
    "version": 3
   },
   "pygments_lexer": "ipython3",
   "nbconvert_exporter": "python",
   "file_extension": ".py"
  }
 },
 "nbformat_minor": 4,
 "nbformat": 4,
 "cells": [
  {
   "cell_type": "code",
   "execution_count": 1,
   "outputs": [],
   "source": [
    "from copy import deepcopy\n",
    "from typing import Type, Union\n",
    "\n",
    "import pandas as pd\n",
    "from qiskit import QuantumCircuit\n",
    "from qiskit.algorithms.optimizers import ADAM, COBYLA\n",
    "from qiskit.circuit.library import ZZFeatureMap, EfficientSU2\n",
    "from qiskit_machine_learning.algorithms import NeuralNetworkClassifier\n",
    "from qiskit_machine_learning.neural_networks import EstimatorQNN\n",
    "from sklearn import datasets\n",
    "from sklearn.model_selection import train_test_split\n",
    "from sklearn.preprocessing import StandardScaler\n",
    "from qiskit.algorithms.optimizers import L_BFGS_B\n",
    "from qiskit_machine_learning.algorithms import VQC\n",
    "from qiskit.circuit.library import ZFeatureMap, TwoLocal\n",
    "from sklearn.linear_model import LogisticRegression\n"
   ],
   "metadata": {
    "collapsed": false,
    "ExecuteTime": {
     "start_time": "2023-05-16T16:31:06.029027Z",
     "end_time": "2023-05-16T16:31:06.465652Z"
    }
   }
  },
  {
   "cell_type": "code",
   "execution_count": 2,
   "outputs": [],
   "source": [
    "iris = datasets.load_iris()\n",
    "\n",
    "\n",
    "def get_dataset(start, stop, columns):\n",
    "    x_to_return = pd.DataFrame(iris.data[start:stop])\n",
    "    y_to_return = pd.Series(iris.target[start:stop])\n",
    "\n",
    "    x_to_return.columns = ['sepal_length', 'sepal_width', 'petal_length', 'petal_width']\n",
    "\n",
    "    x_to_return = x_to_return.loc[:, columns]\n",
    "\n",
    "    x_to_return = StandardScaler().fit_transform(x_to_return)\n",
    "\n",
    "    return *train_test_split(\n",
    "        x_to_return, y_to_return, test_size=0.3, random_state=1, stratify=y_to_return), x_to_return, y_to_return"
   ],
   "metadata": {
    "collapsed": false,
    "ExecuteTime": {
     "start_time": "2023-05-16T16:31:06.466547Z",
     "end_time": "2023-05-16T16:31:06.470239Z"
    }
   }
  },
  {
   "cell_type": "markdown",
   "source": [
    "# Classical approach on easy separable data"
   ],
   "metadata": {
    "collapsed": false
   }
  },
  {
   "cell_type": "code",
   "execution_count": 3,
   "outputs": [],
   "source": [
    "experiment_columns = ['petal_length', 'petal_width']\n",
    "X_train, X_test, y_train, y_test, _, _ = get_dataset(0, 100, experiment_columns)"
   ],
   "metadata": {
    "collapsed": false,
    "ExecuteTime": {
     "start_time": "2023-05-16T16:31:06.473989Z",
     "end_time": "2023-05-16T16:31:06.475980Z"
    }
   }
  },
  {
   "cell_type": "code",
   "execution_count": 4,
   "outputs": [
    {
     "data": {
      "text/plain": "1.0"
     },
     "execution_count": 4,
     "metadata": {},
     "output_type": "execute_result"
    }
   ],
   "source": [
    "regressor = LogisticRegression()\n",
    "regressor.fit(X_train, y_train)\n",
    "\n",
    "regressor.score(X_test, y_test)"
   ],
   "metadata": {
    "collapsed": false,
    "ExecuteTime": {
     "start_time": "2023-05-16T16:31:06.476728Z",
     "end_time": "2023-05-16T16:31:06.482346Z"
    }
   }
  },
  {
   "cell_type": "markdown",
   "source": [
    "# Quantum approach"
   ],
   "metadata": {
    "collapsed": false
   }
  },
  {
   "cell_type": "markdown",
   "source": [
    "## easy separable data"
   ],
   "metadata": {
    "collapsed": false
   }
  },
  {
   "cell_type": "markdown",
   "source": [
    "## VQC"
   ],
   "metadata": {
    "collapsed": false
   }
  },
  {
   "cell_type": "code",
   "execution_count": 5,
   "outputs": [],
   "source": [
    "# construct feature map, ansatz, and optimizer\n",
    "\n",
    "n_of_features = X_train.shape[1]\n",
    "\n",
    "\n",
    "def get_vqc_qnn(optimizer: Union[Type[ADAM], Type[L_BFGS_B], Type[COBYLA]],\n",
    "                loss=\"cross_entropy\"):\n",
    "    in_feature_map = ZFeatureMap(n_of_features)\n",
    "\n",
    "    in_ansatz = TwoLocal(2, ['ry', 'rz'], 'cz', 'full', reps=4, insert_barriers=True)\n",
    "\n",
    "    # construct variational quantum classifier\n",
    "    in_vqc = VQC(\n",
    "        feature_map=in_feature_map,\n",
    "        ansatz=in_ansatz,\n",
    "        loss=loss,\n",
    "        optimizer=optimizer(maxiter=1000)\n",
    "    )\n",
    "\n",
    "    return in_vqc"
   ],
   "metadata": {
    "collapsed": false,
    "ExecuteTime": {
     "start_time": "2023-05-16T16:31:06.483957Z",
     "end_time": "2023-05-16T16:31:06.485333Z"
    }
   }
  },
  {
   "cell_type": "code",
   "execution_count": 6,
   "outputs": [
    {
     "data": {
      "text/plain": "0.8333333333333334"
     },
     "execution_count": 6,
     "metadata": {},
     "output_type": "execute_result"
    }
   ],
   "source": [
    "vqc = get_vqc_qnn(COBYLA)\n",
    "vqc.fit(X_train, pd.get_dummies(y_train).to_numpy().astype(int))\n",
    "vqc.score(X_test, pd.get_dummies(y_test).to_numpy().astype(int))"
   ],
   "metadata": {
    "collapsed": false,
    "ExecuteTime": {
     "start_time": "2023-05-16T16:31:06.486341Z",
     "end_time": "2023-05-16T16:33:19.474276Z"
    }
   }
  },
  {
   "cell_type": "code",
   "execution_count": 7,
   "outputs": [
    {
     "data": {
      "text/plain": "0.9"
     },
     "execution_count": 7,
     "metadata": {},
     "output_type": "execute_result"
    }
   ],
   "source": [
    "vqc = get_vqc_qnn(ADAM)\n",
    "vqc.fit(X_train, pd.get_dummies(y_train).to_numpy().astype(int))\n",
    "vqc.score(X_test, pd.get_dummies(y_test).to_numpy().astype(int))"
   ],
   "metadata": {
    "collapsed": false,
    "ExecuteTime": {
     "start_time": "2023-05-16T16:33:19.501186Z",
     "end_time": "2023-05-16T17:26:14.758456Z"
    }
   }
  },
  {
   "cell_type": "code",
   "execution_count": 8,
   "outputs": [
    {
     "data": {
      "text/plain": "0.9333333333333333"
     },
     "execution_count": 8,
     "metadata": {},
     "output_type": "execute_result"
    }
   ],
   "source": [
    "vqc = get_vqc_qnn(L_BFGS_B)\n",
    "vqc.fit(X_train, pd.get_dummies(y_train).to_numpy().astype(int))\n",
    "vqc.score(X_test, pd.get_dummies(y_test).to_numpy().astype(int))"
   ],
   "metadata": {
    "collapsed": false,
    "ExecuteTime": {
     "start_time": "2023-05-16T17:26:14.776118Z",
     "end_time": "2023-05-16T17:27:31.309107Z"
    }
   }
  },
  {
   "cell_type": "markdown",
   "source": [
    "# Another loss"
   ],
   "metadata": {
    "collapsed": false
   }
  },
  {
   "cell_type": "code",
   "execution_count": null,
   "outputs": [],
   "source": [
    "vqc = get_vqc_qnn(COBYLA, \"squared_error\")\n",
    "vqc.fit(X_train, pd.get_dummies(y_train).to_numpy().astype(int))\n",
    "vqc.score(X_test, pd.get_dummies(y_test).to_numpy().astype(int))"
   ],
   "metadata": {
    "collapsed": false,
    "ExecuteTime": {
     "start_time": "2023-05-16T15:12:06.026612Z",
     "end_time": "2023-05-16T15:14:36.158318Z"
    },
    "pycharm": {
     "is_executing": true
    }
   }
  },
  {
   "cell_type": "code",
   "execution_count": null,
   "outputs": [],
   "source": [
    "vqc = get_vqc_qnn(ADAM, \"squared_error\")\n",
    "vqc.fit(X_train, pd.get_dummies(y_train).to_numpy().astype(int))\n",
    "vqc.score(X_test, pd.get_dummies(y_test).to_numpy().astype(int))"
   ],
   "metadata": {
    "collapsed": false,
    "ExecuteTime": {
     "start_time": "2023-05-16T15:14:36.160987Z",
     "end_time": "2023-05-16T16:10:01.907102Z"
    },
    "pycharm": {
     "is_executing": true
    }
   }
  },
  {
   "cell_type": "code",
   "execution_count": null,
   "outputs": [],
   "source": [
    "vqc = get_vqc_qnn(L_BFGS_B, \"squared_error\")\n",
    "vqc.fit(X_train, pd.get_dummies(y_train).to_numpy().astype(int))\n",
    "vqc.score(X_test, pd.get_dummies(y_test).to_numpy().astype(int))"
   ],
   "metadata": {
    "collapsed": false,
    "ExecuteTime": {
     "start_time": "2023-05-16T16:10:01.996205Z",
     "end_time": "2023-05-16T16:11:27.521342Z"
    },
    "pycharm": {
     "is_executing": true
    }
   }
  },
  {
   "cell_type": "code",
   "execution_count": null,
   "outputs": [],
   "source": [],
   "metadata": {
    "collapsed": false,
    "ExecuteTime": {
     "start_time": "2023-05-16T16:11:27.519306Z",
     "end_time": "2023-05-16T16:11:27.521522Z"
    },
    "pycharm": {
     "is_executing": true
    }
   }
  },
  {
   "cell_type": "markdown",
   "source": [
    "# Another loss"
   ],
   "metadata": {
    "collapsed": false
   }
  },
  {
   "cell_type": "code",
   "execution_count": null,
   "outputs": [],
   "source": [
    "vqc = get_vqc_qnn(COBYLA, \"absolute_error\")\n",
    "vqc.fit(X_train, pd.get_dummies(y_train).to_numpy().astype(int))\n",
    "vqc.score(X_test, pd.get_dummies(y_test).to_numpy().astype(int))"
   ],
   "metadata": {
    "collapsed": false,
    "ExecuteTime": {
     "start_time": "2023-05-16T16:11:27.562493Z",
     "end_time": "2023-05-16T16:13:36.626864Z"
    },
    "pycharm": {
     "is_executing": true
    }
   }
  },
  {
   "cell_type": "code",
   "execution_count": null,
   "outputs": [],
   "source": [
    "vqc = get_vqc_qnn(ADAM, \"absolute_error\")\n",
    "vqc.fit(X_train, pd.get_dummies(y_train).to_numpy().astype(int))\n",
    "vqc.score(X_test, pd.get_dummies(y_test).to_numpy().astype(int))"
   ],
   "metadata": {
    "collapsed": false,
    "pycharm": {
     "is_executing": true
    }
   }
  },
  {
   "cell_type": "code",
   "execution_count": null,
   "outputs": [],
   "source": [
    "vqc = get_vqc_qnn(L_BFGS_B, \"absolute_error\")\n",
    "vqc.fit(X_train, pd.get_dummies(y_train).to_numpy().astype(int))\n",
    "vqc.score(X_test, pd.get_dummies(y_test).to_numpy().astype(int))"
   ],
   "metadata": {
    "collapsed": false,
    "pycharm": {
     "is_executing": true
    }
   }
  },
  {
   "cell_type": "markdown",
   "source": [
    "### NeuralNetworkClassifier"
   ],
   "metadata": {
    "collapsed": false
   }
  },
  {
   "cell_type": "code",
   "execution_count": null,
   "outputs": [],
   "source": [
    "def get_neural_network_classifier(optimizer: Union[Type[ADAM], Type[L_BFGS_B], Type[COBYLA]]):\n",
    "    in_qc = QuantumCircuit(n_of_features)\n",
    "    in_feature_map = ZFeatureMap(n_of_features)\n",
    "\n",
    "    in_ansatz = TwoLocal(2, ['ry', 'rz'], 'cz', 'full', reps=4, insert_barriers=True)\n",
    "\n",
    "    in_qc.compose(in_feature_map, inplace=True)\n",
    "    in_qc.compose(in_ansatz, inplace=True)\n",
    "\n",
    "    in_estimator_qnn = EstimatorQNN(\n",
    "        circuit=in_qc, input_params=in_feature_map.parameters, weight_params=in_ansatz.parameters\n",
    "    )\n",
    "\n",
    "    estimator_classifier_cobyla = NeuralNetworkClassifier(\n",
    "        in_estimator_qnn, optimizer=optimizer(maxiter=1000)\n",
    "    )\n",
    "\n",
    "    return estimator_classifier_cobyla\n"
   ],
   "metadata": {
    "collapsed": false,
    "pycharm": {
     "is_executing": true
    }
   }
  },
  {
   "cell_type": "code",
   "execution_count": null,
   "outputs": [],
   "source": [
    "estimator_classifier = get_neural_network_classifier(COBYLA)\n",
    "estimator_classifier.fit(X_train, y_train.to_numpy())\n",
    "estimator_classifier.score(X_test, y_test)"
   ],
   "metadata": {
    "collapsed": false,
    "pycharm": {
     "is_executing": true
    }
   }
  },
  {
   "cell_type": "code",
   "execution_count": null,
   "outputs": [],
   "source": [
    "estimator_classifier = get_neural_network_classifier(ADAM)\n",
    "estimator_classifier.fit(X_train, y_train.to_numpy())\n",
    "estimator_classifier.score(X_test, y_test)"
   ],
   "metadata": {
    "collapsed": false,
    "pycharm": {
     "is_executing": true
    }
   }
  },
  {
   "cell_type": "code",
   "execution_count": null,
   "outputs": [],
   "source": [
    "estimator_classifier = get_neural_network_classifier(L_BFGS_B)\n",
    "estimator_classifier.fit(X_train, y_train.to_numpy())\n",
    "estimator_classifier.score(X_test, y_test)"
   ],
   "metadata": {
    "collapsed": false,
    "pycharm": {
     "is_executing": true
    }
   }
  },
  {
   "cell_type": "markdown",
   "source": [
    "## EstimatorQNN"
   ],
   "metadata": {
    "collapsed": false
   }
  },
  {
   "cell_type": "code",
   "execution_count": null,
   "outputs": [],
   "source": [
    "def get_estimator_qnn(optimizer: Union[Type[ADAM], Type[L_BFGS_B], Type[COBYLA]]):\n",
    "    in_qc = QuantumCircuit(2)\n",
    "    in_feature_map = ZFeatureMap(n_of_features)\n",
    "\n",
    "    in_ansatz = TwoLocal(2, ['ry', 'rz'], 'cz', 'full', reps=4, insert_barriers=True)\n",
    "\n",
    "    in_qc.compose(in_feature_map, inplace=True)\n",
    "    in_qc.compose(in_ansatz, inplace=True)\n",
    "\n",
    "    in_estimator_qnn = EstimatorQNN(\n",
    "        circuit=in_qc, input_params=in_feature_map.parameters, weight_params=in_ansatz.parameters\n",
    "    )\n",
    "\n",
    "    in_estimator_classifier = NeuralNetworkClassifier(\n",
    "        in_estimator_qnn, optimizer=optimizer(maxiter=6000)\n",
    "    )\n",
    "\n",
    "    return in_estimator_classifier"
   ],
   "metadata": {
    "collapsed": false,
    "pycharm": {
     "is_executing": true
    }
   }
  },
  {
   "cell_type": "code",
   "execution_count": null,
   "outputs": [],
   "source": [
    "y_train_one_minus_one = deepcopy(y_train)\n",
    "y_test_one_minus_one = deepcopy(y_test)\n",
    "\n",
    "y_train_one_minus_one[y_train == 0] = -1\n",
    "y_test_one_minus_one[y_test == 0] = -1\n"
   ],
   "metadata": {
    "collapsed": false,
    "ExecuteTime": {
     "start_time": "2023-05-15T14:08:05.369809Z",
     "end_time": "2023-05-15T14:08:05.397328Z"
    },
    "pycharm": {
     "is_executing": true
    }
   }
  },
  {
   "cell_type": "code",
   "execution_count": null,
   "outputs": [],
   "source": [
    "estimator_classifier = get_estimator_qnn(ADAM)\n",
    "estimator_classifier.fit(X_train, y_train_one_minus_one.to_numpy())\n",
    "estimator_classifier.score(X_test, y_test_one_minus_one)"
   ],
   "metadata": {
    "collapsed": false,
    "pycharm": {
     "is_executing": true
    }
   }
  },
  {
   "cell_type": "code",
   "execution_count": null,
   "outputs": [],
   "source": [
    "estimator_classifier = get_estimator_qnn(COBYLA)\n",
    "estimator_classifier.fit(X_train, y_train_one_minus_one.to_numpy())\n",
    "estimator_classifier.score(X_test, y_test_one_minus_one)"
   ],
   "metadata": {
    "collapsed": false,
    "pycharm": {
     "is_executing": true
    }
   }
  },
  {
   "cell_type": "code",
   "execution_count": null,
   "outputs": [],
   "source": [
    "estimator_classifier = get_estimator_qnn(L_BFGS_B)\n",
    "estimator_classifier.fit(X_train, y_train_one_minus_one.to_numpy())\n",
    "estimator_classifier.score(X_test, y_test_one_minus_one)"
   ],
   "metadata": {
    "collapsed": false,
    "pycharm": {
     "is_executing": true
    }
   }
  },
  {
   "cell_type": "markdown",
   "source": [
    "## SamplerQNN"
   ],
   "metadata": {
    "collapsed": false
   }
  },
  {
   "cell_type": "code",
   "execution_count": null,
   "outputs": [],
   "source": [
    "# construct feature map\n",
    "feature_map = ZFeatureMap(n_of_features)\n",
    "\n",
    "ansatz = TwoLocal(2, ['ry', 'rz'], 'cz', 'full', reps=4, insert_barriers=True)\n",
    "\n",
    "# construct quantum circuit\n",
    "qc = QuantumCircuit(n_of_features)\n",
    "qc.append(feature_map, range(n_of_features))\n",
    "qc.append(ansatz, range(n_of_features))\n",
    "qc.decompose().draw(output=\"mpl\")"
   ],
   "metadata": {
    "collapsed": false,
    "ExecuteTime": {
     "start_time": "2023-05-15T15:22:54.830679Z",
     "end_time": "2023-05-15T15:22:54.977503Z"
    },
    "pycharm": {
     "is_executing": true
    }
   }
  },
  {
   "cell_type": "code",
   "execution_count": null,
   "outputs": [],
   "source": [
    "from qiskit_machine_learning.neural_networks import SamplerQNN\n",
    "\n",
    "\n",
    "def parity(x):\n",
    "    return \"{:b}\".format(x).count(\"1\") % 2\n",
    "\n",
    "\n",
    "output_shape = 2\n",
    "\n",
    "sampler_qnn = SamplerQNN(\n",
    "    circuit=qc,\n",
    "    input_params=feature_map.parameters,\n",
    "    weight_params=ansatz.parameters,\n",
    "    interpret=parity,\n",
    "    output_shape=output_shape,\n",
    ")"
   ],
   "metadata": {
    "collapsed": false,
    "ExecuteTime": {
     "start_time": "2023-05-15T15:22:54.883903Z",
     "end_time": "2023-05-15T15:22:54.977863Z"
    },
    "pycharm": {
     "is_executing": true
    }
   }
  },
  {
   "cell_type": "code",
   "execution_count": null,
   "outputs": [],
   "source": [
    "sampler_classifier = NeuralNetworkClassifier(\n",
    "    neural_network=sampler_qnn, optimizer=COBYLA(maxiter=30)\n",
    ")"
   ],
   "metadata": {
    "collapsed": false,
    "ExecuteTime": {
     "start_time": "2023-05-15T15:22:54.885988Z",
     "end_time": "2023-05-15T15:22:54.978048Z"
    },
    "pycharm": {
     "is_executing": true
    }
   }
  },
  {
   "cell_type": "code",
   "execution_count": null,
   "outputs": [],
   "source": [
    "sampler_classifier.fit(X_train, y_train.to_numpy())\n",
    "sampler_classifier.score(X_test, y_test)"
   ],
   "metadata": {
    "collapsed": false,
    "ExecuteTime": {
     "start_time": "2023-05-15T19:12:33.778987Z",
     "end_time": "2023-05-15T19:12:39.514950Z"
    },
    "pycharm": {
     "is_executing": true
    }
   }
  },
  {
   "cell_type": "markdown",
   "source": [
    "# Not Easy separable data"
   ],
   "metadata": {
    "collapsed": false
   }
  },
  {
   "cell_type": "code",
   "execution_count": null,
   "outputs": [],
   "source": [
    "experiment_columns = ['petal_length', 'petal_width']\n",
    "X_train_not_easy_separable, X_test_not_easy_separable, y_train_not_easy_separable, y_test_not_easy_separable, _, _ = get_dataset(\n",
    "    50, 150, experiment_columns)\n",
    "\n",
    "y_train_not_easy_separable[y_train_not_easy_separable == 2] = 0\n",
    "y_test_not_easy_separable[y_test_not_easy_separable == 2] = 0"
   ],
   "metadata": {
    "collapsed": false,
    "ExecuteTime": {
     "start_time": "2023-05-16T12:43:20.234563Z",
     "end_time": "2023-05-16T12:43:20.254357Z"
    },
    "pycharm": {
     "is_executing": true
    }
   }
  },
  {
   "cell_type": "markdown",
   "source": [
    "### Classical approach on not easy separable data"
   ],
   "metadata": {
    "collapsed": false
   }
  },
  {
   "cell_type": "code",
   "execution_count": null,
   "outputs": [],
   "source": [
    "regressor = LogisticRegression()\n",
    "regressor.fit(X_train_not_easy_separable, y_train_not_easy_separable)\n",
    "\n",
    "regressor.score(X_test_not_easy_separable, y_test_not_easy_separable)"
   ],
   "metadata": {
    "collapsed": false,
    "ExecuteTime": {
     "start_time": "2023-05-16T12:43:22.498316Z",
     "end_time": "2023-05-16T12:43:22.517627Z"
    },
    "pycharm": {
     "is_executing": true
    }
   }
  },
  {
   "cell_type": "markdown",
   "source": [
    "## Quantum approach VQR"
   ],
   "metadata": {
    "collapsed": false
   }
  },
  {
   "cell_type": "code",
   "execution_count": null,
   "outputs": [],
   "source": [
    "# construct feature map, ansatz, and optimizer\n",
    "\n",
    "def create_vqc(in_feature_map, in_ansatz, optimizer: Union[Type[ADAM], Type[L_BFGS_B], Type[COBYLA]]):\n",
    "    inner_vqc = VQC(\n",
    "        feature_map=in_feature_map,\n",
    "        ansatz=in_ansatz,\n",
    "        loss=\"cross_entropy\",\n",
    "        optimizer=optimizer(maxiter=1000)\n",
    "    )\n",
    "\n",
    "    return inner_vqc"
   ],
   "metadata": {
    "collapsed": false,
    "pycharm": {
     "is_executing": true
    }
   }
  },
  {
   "cell_type": "code",
   "execution_count": null,
   "outputs": [],
   "source": [
    "# ADAM\n",
    "\n",
    "vqc = create_vqc(\n",
    "    ZZFeatureMap(n_of_features),\n",
    "    EfficientSU2(num_qubits=n_of_features, reps=2),\n",
    "    optimizer=ADAM\n",
    ")\n",
    "\n",
    "vqc.fit(X_train_not_easy_separable, pd.get_dummies(y_train_not_easy_separable).to_numpy().astype(int))\n",
    "vqc.score(X_test_not_easy_separable, pd.get_dummies(y_test_not_easy_separable).to_numpy().astype(int))"
   ],
   "metadata": {
    "collapsed": false,
    "pycharm": {
     "is_executing": true
    }
   }
  },
  {
   "cell_type": "code",
   "execution_count": null,
   "outputs": [],
   "source": [
    "# L_BFGS_B\n",
    "\n",
    "vqc = create_vqc(\n",
    "    ZZFeatureMap(n_of_features),\n",
    "    EfficientSU2(num_qubits=n_of_features, reps=2),\n",
    "    optimizer=L_BFGS_B\n",
    ")\n",
    "\n",
    "vqc.fit(X_train_not_easy_separable, pd.get_dummies(y_train_not_easy_separable).to_numpy().astype(int))\n",
    "vqc.score(X_test_not_easy_separable, pd.get_dummies(y_test_not_easy_separable).to_numpy().astype(int))"
   ],
   "metadata": {
    "collapsed": false,
    "pycharm": {
     "is_executing": true
    }
   }
  },
  {
   "cell_type": "code",
   "execution_count": null,
   "outputs": [],
   "source": [
    "# COBYLA\n",
    "\n",
    "vqc = create_vqc(\n",
    "    ZZFeatureMap(n_of_features),\n",
    "    EfficientSU2(num_qubits=n_of_features, reps=2),\n",
    "    optimizer=COBYLA\n",
    ")\n",
    "\n",
    "vqc.fit(X_train_not_easy_separable, pd.get_dummies(y_train_not_easy_separable).to_numpy().astype(int))\n",
    "vqc.score(X_test_not_easy_separable, pd.get_dummies(y_test_not_easy_separable).to_numpy().astype(int))"
   ],
   "metadata": {
    "collapsed": false,
    "pycharm": {
     "is_executing": true
    }
   }
  },
  {
   "cell_type": "markdown",
   "source": [
    "# EstimatorQNN ADAM"
   ],
   "metadata": {
    "collapsed": false
   }
  },
  {
   "cell_type": "markdown",
   "source": [
    "# different optimizers"
   ],
   "metadata": {
    "collapsed": false
   }
  },
  {
   "cell_type": "code",
   "execution_count": null,
   "outputs": [],
   "source": [
    "estimator_classifier = get_estimator_qnn(COBYLA)\n",
    "\n",
    "estimator_classifier.fit(X_train, y_train_one_minus_one.to_numpy())\n",
    "estimator_classifier.score(X_test, y_test_one_minus_one)"
   ],
   "metadata": {
    "collapsed": false,
    "pycharm": {
     "is_executing": true
    }
   }
  },
  {
   "cell_type": "code",
   "execution_count": null,
   "outputs": [],
   "source": [
    "estimator_classifier_adam = get_estimator_qnn(ADAM)\n",
    "\n",
    "estimator_classifier_adam.fit(X_train, y_train_one_minus_one.to_numpy())\n",
    "estimator_classifier_adam.score(X_test, y_test_one_minus_one)"
   ],
   "metadata": {
    "collapsed": false,
    "pycharm": {
     "is_executing": true
    }
   }
  },
  {
   "cell_type": "code",
   "execution_count": null,
   "outputs": [],
   "source": [
    "estimator_classifier_l_bfgs_b = get_estimator_qnn(L_BFGS_B)\n",
    "\n",
    "estimator_classifier_l_bfgs_b.fit(X_train, y_train_one_minus_one.to_numpy())\n",
    "estimator_classifier_l_bfgs_b.score(X_test, y_test_one_minus_one)"
   ],
   "metadata": {
    "collapsed": false,
    "pycharm": {
     "is_executing": true
    }
   }
  }
 ]
}
