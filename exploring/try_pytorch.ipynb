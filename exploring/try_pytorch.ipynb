{
 "cells": [
  {
   "cell_type": "code",
   "execution_count": 5,
   "metadata": {},
   "outputs": [],
   "source": [
    "# Data Generation\n",
    "import numpy as np\n",
    "\n",
    "np.random.seed(42)\n",
    "x = np.random.rand(100, 1)\n",
    "y = 1 + 2 * x + .1 * np.random.randn(100, 1)\n",
    "\n",
    "# Shuffles the indices\n",
    "idx = np.arange(100)\n",
    "np.random.shuffle(idx)\n",
    "\n",
    "# Uses first 80 random indices for train\n",
    "train_idx = idx[:80]\n",
    "# Uses the remaining indices for validation\n",
    "val_idx = idx[80:]\n",
    "\n",
    "# Generates train and validation sets\n",
    "x_train, y_train = x[train_idx], y[train_idx]\n",
    "x_val, y_val = x[val_idx], y[val_idx]"
   ]
  },
  {
   "cell_type": "code",
   "execution_count": 6,
   "metadata": {},
   "outputs": [
    {
     "name": "stdout",
     "output_type": "stream",
     "text": [
      "[0.49671415] [-0.1382643]\n",
      "[1.02354094] [1.96896411]\n",
      "[1.02354075] [1.96896447]\n"
     ]
    }
   ],
   "source": [
    "# Initializes parameters \"a\" and \"b\" randomly\n",
    "np.random.seed(42)\n",
    "a = np.random.randn(1)\n",
    "b = np.random.randn(1)\n",
    "\n",
    "print(a, b)\n",
    "\n",
    "# Sets learning rate\n",
    "lr = 1e-1\n",
    "# Defines number of epochs\n",
    "n_epochs = 1000\n",
    "\n",
    "for epoch in range(n_epochs):\n",
    "    # Computes our model's predicted output\n",
    "    yhat = a + b * x_train\n",
    "    \n",
    "    # How wrong is our model? That's the error! \n",
    "    error = (y_train - yhat)\n",
    "    # It is a regression, so it computes mean squared error (MSE)\n",
    "    loss = (error ** 2).mean()\n",
    "    \n",
    "    # Computes gradients for both \"a\" and \"b\" parameters\n",
    "    a_grad = -2 * error.mean()\n",
    "    b_grad = -2 * (x_train * error).mean()\n",
    "    \n",
    "    # Updates parameters using gradients and the learning rate\n",
    "    a = a - lr * a_grad\n",
    "    b = b - lr * b_grad\n",
    "    \n",
    "print(a, b)\n",
    "\n",
    "# Sanity Check: do we get the same results as our gradient descent?\n",
    "from sklearn.linear_model import LinearRegression\n",
    "linr = LinearRegression()\n",
    "linr.fit(x_train, y_train)\n",
    "print(linr.intercept_, linr.coef_[0])"
   ]
  },
  {
   "cell_type": "code",
   "execution_count": 7,
   "metadata": {},
   "outputs": [
    {
     "name": "stdout",
     "output_type": "stream",
     "text": [
      "<class 'numpy.ndarray'> <class 'torch.Tensor'> torch.FloatTensor\n"
     ]
    }
   ],
   "source": [
    "import torch\n",
    "import torch.optim as optim\n",
    "import torch.nn as nn\n",
    "from torchviz import make_dot\n",
    "\n",
    "device = 'cuda' if torch.cuda.is_available() else 'cpu'\n",
    "\n",
    "# Our data was in Numpy arrays, but we need to transform them into PyTorch's Tensors\n",
    "# and then we send them to the chosen device\n",
    "x_train_tensor = torch.from_numpy(x_train).float().to(device)\n",
    "y_train_tensor = torch.from_numpy(y_train).float().to(device)\n",
    "\n",
    "# Here we can see the difference - notice that .type() is more useful\n",
    "# since it also tells us WHERE the tensor is (device)\n",
    "print(type(x_train), type(x_train_tensor), x_train_tensor.type())"
   ]
  },
  {
   "cell_type": "code",
   "execution_count": 8,
   "metadata": {},
   "outputs": [
    {
     "data": {
      "text/plain": [
       "tensor([[0.7713],\n",
       "        [0.0636],\n",
       "        [0.8631],\n",
       "        [0.0254],\n",
       "        [0.7320],\n",
       "        [0.0740],\n",
       "        [0.1987],\n",
       "        [0.3110],\n",
       "        [0.4722],\n",
       "        [0.9696],\n",
       "        [0.1220],\n",
       "        [0.7751],\n",
       "        [0.8022],\n",
       "        [0.7296],\n",
       "        [0.0977],\n",
       "        [0.1849],\n",
       "        [0.1560],\n",
       "        [0.0206],\n",
       "        [0.9869],\n",
       "        [0.6233],\n",
       "        [0.7081],\n",
       "        [0.5979],\n",
       "        [0.9219],\n",
       "        [0.6376],\n",
       "        [0.2809],\n",
       "        [0.2588],\n",
       "        [0.1196],\n",
       "        [0.7290],\n",
       "        [0.9489],\n",
       "        [0.6075],\n",
       "        [0.5613],\n",
       "        [0.4938],\n",
       "        [0.1818],\n",
       "        [0.2713],\n",
       "        [0.9699],\n",
       "        [0.2123],\n",
       "        [0.1834],\n",
       "        [0.8662],\n",
       "        [0.3745],\n",
       "        [0.2912],\n",
       "        [0.8084],\n",
       "        [0.0581],\n",
       "        [0.8324],\n",
       "        [0.5427],\n",
       "        [0.7722],\n",
       "        [0.8872],\n",
       "        [0.0885],\n",
       "        [0.0452],\n",
       "        [0.5924],\n",
       "        [0.6842],\n",
       "        [0.7132],\n",
       "        [0.0344],\n",
       "        [0.6011],\n",
       "        [0.8155],\n",
       "        [0.4402],\n",
       "        [0.3252],\n",
       "        [0.7852],\n",
       "        [0.7608],\n",
       "        [0.4952],\n",
       "        [0.1997],\n",
       "        [0.9507],\n",
       "        [0.2921],\n",
       "        [0.1395],\n",
       "        [0.3117],\n",
       "        [0.7069],\n",
       "        [0.1159],\n",
       "        [0.3585],\n",
       "        [0.0055],\n",
       "        [0.1960],\n",
       "        [0.8948],\n",
       "        [0.4561],\n",
       "        [0.5248],\n",
       "        [0.1409],\n",
       "        [0.0651],\n",
       "        [0.1705],\n",
       "        [0.8287],\n",
       "        [0.3253],\n",
       "        [0.9395],\n",
       "        [0.3309],\n",
       "        [0.3664]])"
      ]
     },
     "execution_count": 8,
     "metadata": {},
     "output_type": "execute_result"
    }
   ],
   "source": []
  }
 ],
 "metadata": {
  "kernelspec": {
   "display_name": "master_thesis",
   "language": "python",
   "name": "python3"
  },
  "language_info": {
   "codemirror_mode": {
    "name": "ipython",
    "version": 3
   },
   "file_extension": ".py",
   "mimetype": "text/x-python",
   "name": "python",
   "nbconvert_exporter": "python",
   "pygments_lexer": "ipython3",
   "version": "3.9.16"
  },
  "orig_nbformat": 4
 },
 "nbformat": 4,
 "nbformat_minor": 2
}
